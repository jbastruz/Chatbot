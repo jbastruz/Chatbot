{
 "cells": [
  {
   "cell_type": "code",
   "execution_count": 4,
   "metadata": {},
   "outputs": [],
   "source": [
    "import os\n",
    "from mistralai.client import MistralClient\n",
    "from mistralai.models.chat_completion import ChatMessage\n",
    "import pandas as pd"
   ]
  },
  {
   "cell_type": "code",
   "execution_count": 15,
   "metadata": {},
   "outputs": [],
   "source": [
    "mistral_api_key = os.getenv(\"MISTRAL_API_KEY\")\n",
    "model = \"mistral-large-latest\"\n",
    "client = MistralClient(api_key=mistral_api_key)\n",
    "messages = [ChatMessage(role= \"system\", content= f\"Tu es un assistant vocal qui parle en français\")]\n",
    "messages.append(ChatMessage(role= \"assistant\", content= f\"Bonjour JB, comment puis-je vous aider?\"))"
   ]
  },
  {
   "cell_type": "code",
   "execution_count": 4,
   "metadata": {},
   "outputs": [
    {
     "data": {
      "text/plain": [
       "[{'role': 'assistant', 'content': 'Bonjour, comment puis-je vous aider?'},\n",
       " {'role': 'user', 'content': 'Je veux un chat'}]"
      ]
     },
     "execution_count": 4,
     "metadata": {},
     "output_type": "execute_result"
    }
   ],
   "source": [
    "test = [{\"role\": \"assistant\", \"content\": \"Bonjour, comment puis-je vous aider?\"}]\n",
    "test.append({\"role\": \"user\", \"content\": \"Je veux un chat\"})\n",
    "\n",
    "for msg in test:\n",
    "    "
   ]
  },
  {
   "cell_type": "code",
   "execution_count": 11,
   "metadata": {},
   "outputs": [
    {
     "name": "stdout",
     "output_type": "stream",
     "text": [
      "Chat 982b100: what is streamlit...\n",
      "Chat 7807ab5: what is django...\n",
      "Chat a063fe5: what is flutter in 20...\n",
      "Chat 7254319: what is openai in 30...\n"
     ]
    }
   ],
   "source": [
    "def get_button_label(chat_df, chat_id):\n",
    "    first_message = chat_df[(chat_df[\"ChatID\"] == chat_id) & (chat_df[\"Role\"] == \"User\")].iloc[0][\"Content\"]\n",
    "    return f\"Chat {chat_id[0:7]}: {' '.join(first_message.split()[:5])}...\"\n",
    "\n",
    "CSV_FILE = \"Data/chat_history.csv\"\n",
    "try:\n",
    "    chat_history_df = pd.read_csv(CSV_FILE)\n",
    "except FileNotFoundError:\n",
    "    chat_history_df = pd.DataFrame(columns=[\"ChatID\", \"Role\", \"Content\", 'User'])\n",
    "\n",
    "for chat_id in chat_history_df[\"ChatID\"].unique():\n",
    "        print(get_button_label(chat_history_df, chat_id))"
   ]
  }
 ],
 "metadata": {
  "kernelspec": {
   "display_name": "Chatbot",
   "language": "python",
   "name": "python3"
  },
  "language_info": {
   "codemirror_mode": {
    "name": "ipython",
    "version": 3
   },
   "file_extension": ".py",
   "mimetype": "text/x-python",
   "name": "python",
   "nbconvert_exporter": "python",
   "pygments_lexer": "ipython3",
   "version": "3.12.2"
  }
 },
 "nbformat": 4,
 "nbformat_minor": 2
}
